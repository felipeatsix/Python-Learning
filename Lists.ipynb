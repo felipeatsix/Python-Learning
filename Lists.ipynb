{
 "cells": [
  {
   "cell_type": "markdown",
   "metadata": {},
   "source": [
    "# Python lists\n",
    "* Lists are ordered sequences that can hold a veriety of object types.\n",
    "* Lists supports indexing and slicing just like strings.\n",
    "* Lists can be nested. \n",
    "\n",
    "> **Syntax**\n",
    "* my_list = [value1,value2,value3]"
   ]
  },
  {
   "cell_type": "code",
   "execution_count": 1,
   "metadata": {},
   "outputs": [
    {
     "name": "stdout",
     "output_type": "stream",
     "text": [
      "[1, 2, 3]\n",
      "['string', 10, 100.0]\n"
     ]
    }
   ],
   "source": [
    "# Simple list example\n",
    "simple_list = [1,2,3]\n",
    "\n",
    "# List with mixed Obj types.\n",
    "mixed_list = ['string',10,100.00]\n",
    "\n",
    "print(simple_list)\n",
    "print(mixed_list)"
   ]
  },
  {
   "cell_type": "markdown",
   "metadata": {},
   "source": [
    "### Lists indexing and Slicing"
   ]
  },
  {
   "cell_type": "code",
   "execution_count": 2,
   "metadata": {},
   "outputs": [
    {
     "name": "stdout",
     "output_type": "stream",
     "text": [
      "3\n",
      "string\n",
      "[10, 100.0]\n"
     ]
    }
   ],
   "source": [
    "# Indexing\n",
    "print(simple_list[-1])\n",
    "print(mixed_list[0])\n",
    "\n",
    "# Slicing\n",
    "print(mixed_list[1:])"
   ]
  },
  {
   "cell_type": "markdown",
   "metadata": {},
   "source": [
    "### Lists concatenation"
   ]
  },
  {
   "cell_type": "code",
   "execution_count": 3,
   "metadata": {},
   "outputs": [
    {
     "data": {
      "text/plain": [
       "[1, 2, 3, 'string', 10, 100.0]"
      ]
     },
     "execution_count": 3,
     "metadata": {},
     "output_type": "execute_result"
    }
   ],
   "source": [
    "simple_list + mixed_list\n"
   ]
  },
  {
   "cell_type": "markdown",
   "metadata": {},
   "source": [
    "### Change list index value"
   ]
  },
  {
   "cell_type": "code",
   "execution_count": 4,
   "metadata": {},
   "outputs": [
    {
     "name": "stdout",
     "output_type": "stream",
     "text": [
      "[1, 2, 5]\n",
      "['string', 'another string', 100.0]\n"
     ]
    }
   ],
   "source": [
    "simple_list[2] = 5\n",
    "print(simple_list)\n",
    "\n",
    "# Lists can even change values to a different data type.\n",
    "mixed_list[1] = 'another string'\n",
    "print(mixed_list)"
   ]
  },
  {
   "cell_type": "markdown",
   "metadata": {},
   "source": [
    "### Add (append) a new item in the end of the list"
   ]
  },
  {
   "cell_type": "code",
   "execution_count": 5,
   "metadata": {},
   "outputs": [
    {
     "data": {
      "text/plain": [
       "['string', 'another string', 100.0, 'appended item']"
      ]
     },
     "execution_count": 5,
     "metadata": {},
     "output_type": "execute_result"
    }
   ],
   "source": [
    "# Using append from the list object method.\n",
    "mixed_list.append('appended item')\n",
    "mixed_list"
   ]
  },
  {
   "cell_type": "markdown",
   "metadata": {},
   "source": [
    "### Remove (Pop) the last item of a list\n",
    "* By using the list pop method, you'll remove the last item of the list, or you can also remove any other item by specifing it's index, and you can also transfer it to another variable. "
   ]
  },
  {
   "cell_type": "code",
   "execution_count": 6,
   "metadata": {},
   "outputs": [
    {
     "name": "stdout",
     "output_type": "stream",
     "text": [
      "['string', 'another string', 100.0, 'appended item']\n",
      "appended item\n",
      "another string\n",
      "['string', 100.0]\n"
     ]
    }
   ],
   "source": [
    "print(mixed_list)\n",
    "\n",
    "# Pop and transfer last item\n",
    "popped_item = mixed_list.pop()\n",
    "print(popped_item)\n",
    "\n",
    "# Pop and transfer item from index 1\n",
    "popped_item_index1 = mixed_list.pop(1)\n",
    "print(popped_item_index1)\n",
    "\n",
    "print(mixed_list)"
   ]
  },
  {
   "cell_type": "markdown",
   "metadata": {},
   "source": [
    "### Sorting lists\n",
    "* You can sort a list by using the list sort method.\n",
    "* Similarly you can also reverse it by using reverse method."
   ]
  },
  {
   "cell_type": "code",
   "execution_count": 7,
   "metadata": {},
   "outputs": [
    {
     "name": "stdout",
     "output_type": "stream",
     "text": [
      "['z', 'y', 'x', 'c', 'b', 'a']\n",
      "['a', 'b', 'c', 'x', 'y', 'z']\n",
      "[10, 9, 8, 7, 6, 5, 4, 3, 2, 1]\n",
      "[1, 2, 3, 4, 5, 6, 7, 8, 9, 10]\n",
      "[10, 9, 8, 7, 6, 5, 4, 3, 2, 1]\n"
     ]
    },
    {
     "data": {
      "text/plain": [
       "NoneType"
      ]
     },
     "execution_count": 7,
     "metadata": {},
     "output_type": "execute_result"
    }
   ],
   "source": [
    "sort_list = ['z','y','x','c','b','a']\n",
    "print(sort_list)\n",
    "\n",
    "sort_list.sort()\n",
    "print(sort_list)\n",
    "\n",
    "sort_list_numbers = [10,9,8,7,6,5,4,3,2,1]\n",
    "print(sort_list_numbers)\n",
    "\n",
    "sort_list_numbers.sort()\n",
    "print(sort_list_numbers)\n",
    "\n",
    "sort_list_numbers.reverse()\n",
    "print(sort_list_numbers)\n",
    "\n",
    "# Sort method occurs in place, that means it won't return any output, and it's result is not transferrable.\n",
    "new_sort = sort_list.sort()\n",
    "type(new_sort)\n",
    "\n"
   ]
  },
  {
   "cell_type": "code",
   "execution_count": null,
   "metadata": {},
   "outputs": [],
   "source": []
  }
 ],
 "metadata": {
  "kernelspec": {
   "display_name": "Python 3",
   "language": "python",
   "name": "python3"
  },
  "language_info": {
   "codemirror_mode": {
    "name": "ipython",
    "version": 3
   },
   "file_extension": ".py",
   "mimetype": "text/x-python",
   "name": "python",
   "nbconvert_exporter": "python",
   "pygments_lexer": "ipython3",
   "version": "3.7.3"
  }
 },
 "nbformat": 4,
 "nbformat_minor": 2
}
