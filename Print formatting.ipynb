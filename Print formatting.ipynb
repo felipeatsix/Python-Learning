{
 "cells": [
  {
   "cell_type": "markdown",
   "metadata": {},
   "source": [
    "# Print formatting\n",
    "\n",
    "Print formatting consists on making use of place holders '{}' in a string to assign values to their indexes.  \n",
    "\n",
    "In Python, there are several ways to print formatting, we're going to cover some of the methods below:\n",
    "\n",
    "* Format method\n",
    "* F string method"
   ]
  },
  {
   "cell_type": "markdown",
   "metadata": {},
   "source": [
    "### String formatting"
   ]
  },
  {
   "cell_type": "code",
   "execution_count": 9,
   "metadata": {},
   "outputs": [
    {
     "name": "stdout",
     "output_type": "stream",
     "text": [
      "This is how python does print formatting\n",
      "This is how python does print formatting\n",
      "This is how python does print formatting\n"
     ]
    }
   ],
   "source": [
    "# Format method using index position\n",
    "print(\"This {} how {} does {} formatting\".format('is','python','print'))\n",
    "\n",
    "# Format method using keywords \n",
    "print(\"This {i} how {py} does {pr} formatting\".format(i='is',py='python',pr='print'))\n",
    "\n",
    "# Format method using F string (Python 3.6 and above)\n",
    "i='is'\n",
    "py='python'\n",
    "pr='print'\n",
    "print(f'This {i} how {py} does {pr} formatting')"
   ]
  },
  {
   "cell_type": "markdown",
   "metadata": {},
   "source": [
    "###  Float formatting\n",
    "I know this section is about **strings**, but it is convenient to accomplish the **'Print formatting'** section with the Float formatting, once it consists on the same method but for formatting float data type.\n",
    "\n",
    "The float formatting syntax is `\"{value:width.precision f}\"`\n",
    "> **Note**: *width* means blank space to be added, this sometimes can be necessary depending on the size of the number you're about to formatt and how you want it to fit in the string, but generally this value is commonly set to 1."
   ]
  },
  {
   "cell_type": "code",
   "execution_count": 1,
   "metadata": {},
   "outputs": [
    {
     "name": "stdout",
     "output_type": "stream",
     "text": [
      "The number is equal to 10.12\n",
      "The number is equal to 10.123\n"
     ]
    }
   ],
   "source": [
    "number = 10.12345\n",
    "\n",
    "# Float formatting method using index position\n",
    "print(\"The number is equal to {0:1.2f}\".format(number))\n",
    "\n",
    "# Float formatting method using keyword\n",
    "print(\"The number is equal to {n:1.3f}\".format(n=number))"
   ]
  }
 ],
 "metadata": {
  "kernelspec": {
   "display_name": "Python 3",
   "language": "python",
   "name": "python3"
  },
  "language_info": {
   "codemirror_mode": {
    "name": "ipython",
    "version": 3
   },
   "file_extension": ".py",
   "mimetype": "text/x-python",
   "name": "python",
   "nbconvert_exporter": "python",
   "pygments_lexer": "ipython3",
   "version": "3.6.5"
  }
 },
 "nbformat": 4,
 "nbformat_minor": 2
}
