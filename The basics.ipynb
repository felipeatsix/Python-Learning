{
 "cells": [
  {
   "cell_type": "markdown",
   "metadata": {},
   "source": [
    "# Rules for variable names\n",
    "* Names can not start with a number.\n",
    "* There can be no spaces in the name, use `_` instead.\n",
    "* Can't use any of these symbols:\n",
    "- :'\",<>/?|\\()!@#$%^&*~-+\n",
    "* It's considered best practice (PEP8) that names are lowercase.\n",
    "* Avoid using words that have special meaning in Pythin like `list` and `str`"
   ]
  },
  {
   "cell_type": "markdown",
   "metadata": {},
   "source": [
    "# Print to host"
   ]
  },
  {
   "cell_type": "code",
   "execution_count": 1,
   "metadata": {},
   "outputs": [
    {
     "name": "stdout",
     "output_type": "stream",
     "text": [
      "Hello Python!\n"
     ]
    }
   ],
   "source": [
    "print('Hello Python!')"
   ]
  },
  {
   "cell_type": "markdown",
   "metadata": {},
   "source": [
    "# Variables are case sensitive"
   ]
  },
  {
   "cell_type": "code",
   "execution_count": 2,
   "metadata": {},
   "outputs": [
    {
     "name": "stdout",
     "output_type": "stream",
     "text": [
      "Felipe Santos\n",
      "Santos\n"
     ]
    }
   ],
   "source": [
    "var = 'Felipe Santos'\n",
    "Var = 'Santos'\n",
    "\n",
    "print(var)\n",
    "print (Var)"
   ]
  },
  {
   "cell_type": "markdown",
   "metadata": {},
   "source": [
    "# This is an if statement"
   ]
  },
  {
   "cell_type": "code",
   "execution_count": 3,
   "metadata": {
    "scrolled": true
   },
   "outputs": [
    {
     "name": "stdout",
     "output_type": "stream",
     "text": [
      "Santos\n"
     ]
    }
   ],
   "source": [
    "if var == 'Santos':\n",
    "    print('Hello', var)\n",
    "\n",
    "elif Var == 'Santos':\n",
    "    print(Var)\n",
    "\n",
    "else:\n",
    "    print('done.')"
   ]
  },
  {
   "cell_type": "markdown",
   "metadata": {},
   "source": [
    "# This is a For loop statement"
   ]
  },
  {
   "cell_type": "code",
   "execution_count": 103,
   "metadata": {},
   "outputs": [
    {
     "name": "stdout",
     "output_type": "stream",
     "text": [
      "0\n",
      "1\n",
      "2\n",
      "3\n",
      "4\n",
      "5\n",
      "6\n",
      "7\n",
      "8\n",
      "9\n"
     ]
    }
   ],
   "source": [
    "for item in range(0,10):\n",
    "    print(item)\n"
   ]
  },
  {
   "cell_type": "markdown",
   "metadata": {},
   "source": [
    "### Use `end=''` to print on the same line"
   ]
  },
  {
   "cell_type": "code",
   "execution_count": 106,
   "metadata": {},
   "outputs": [
    {
     "name": "stdout",
     "output_type": "stream",
     "text": [
      "0123456789"
     ]
    }
   ],
   "source": [
    "for item in range(0,10):\n",
    "    print(item,end='')"
   ]
  },
  {
   "cell_type": "markdown",
   "metadata": {},
   "source": [
    "# Split and assign"
   ]
  },
  {
   "cell_type": "code",
   "execution_count": 4,
   "metadata": {
    "scrolled": true
   },
   "outputs": [
    {
     "name": "stdout",
     "output_type": "stream",
     "text": [
      "Felipe\n",
      "Santos\n"
     ]
    }
   ],
   "source": [
    "var = 'Felipe Santos'\n",
    "FirstName, LastName = var.split(' ')\n",
    "\n",
    "print(FirstName)\n",
    "print(LastName)"
   ]
  },
  {
   "cell_type": "markdown",
   "metadata": {
    "scrolled": true
   },
   "source": [
    "# Data types are dynamic in Python"
   ]
  },
  {
   "cell_type": "code",
   "execution_count": 5,
   "metadata": {},
   "outputs": [
    {
     "data": {
      "text/plain": [
       "int"
      ]
     },
     "execution_count": 5,
     "metadata": {},
     "output_type": "execute_result"
    }
   ],
   "source": [
    "a = 10\n",
    "type(a)"
   ]
  },
  {
   "cell_type": "code",
   "execution_count": 6,
   "metadata": {},
   "outputs": [
    {
     "data": {
      "text/plain": [
       "float"
      ]
     },
     "execution_count": 6,
     "metadata": {},
     "output_type": "execute_result"
    }
   ],
   "source": [
    "a = 10.50\n",
    "type(a)"
   ]
  },
  {
   "cell_type": "code",
   "execution_count": 7,
   "metadata": {},
   "outputs": [
    {
     "data": {
      "text/plain": [
       "str"
      ]
     },
     "execution_count": 7,
     "metadata": {},
     "output_type": "execute_result"
    }
   ],
   "source": [
    "a = 'Felipe'\n",
    "type (a)"
   ]
  },
  {
   "cell_type": "markdown",
   "metadata": {},
   "source": [
    "# Strings"
   ]
  },
  {
   "cell_type": "code",
   "execution_count": 8,
   "metadata": {},
   "outputs": [
    {
     "data": {
      "text/plain": [
       "'I will be printed to the console'"
      ]
     },
     "execution_count": 8,
     "metadata": {},
     "output_type": "execute_result"
    }
   ],
   "source": [
    "\"I won't be printed to the console\"\n",
    "\"I will be printed to the console\""
   ]
  },
  {
   "cell_type": "code",
   "execution_count": 9,
   "metadata": {},
   "outputs": [
    {
     "name": "stdout",
     "output_type": "stream",
     "text": [
      "I will be printed to the console\n",
      "I will also be printed to the console\n"
     ]
    }
   ],
   "source": [
    "print(\"I will be printed to the console\")\n",
    "print(\"I will also be printed to the console\")"
   ]
  },
  {
   "cell_type": "markdown",
   "metadata": {},
   "source": [
    "### String index\n",
    "A string is an array of characters, arrays are a sequence of elements put together, in the case of string the elements are text characters.\n",
    "\n",
    "Every element is given an index which identifies it's position in the array, both forward and reverse.\n",
    "\n",
    "> `Note: -1 will always be the last character in the reverse index.`\n",
    "\n",
    "<table>\n",
    "    <tr><th>s</th><th>t</th><th>r</th><th>i</th><th>n</th><th>g</th></tr>\n",
    "    <tr><td>0</td><td>1</td><td>2</td><td>3</td><td>4</td><td>5</td></tr>\n",
    "    <tr><td>0</td><td>-5</td><td>-4</td><td>-3</td><td>-2</td><td>-1</td></tr>\n",
    "</table\n",
    "    "
   ]
  },
  {
   "cell_type": "code",
   "execution_count": 10,
   "metadata": {},
   "outputs": [
    {
     "name": "stdout",
     "output_type": "stream",
     "text": [
      "Grab first char: s\n",
      "Grab last char [reverse]: g\n",
      "Grab last char: g\n",
      "Print reversed string: trings"
     ]
    }
   ],
   "source": [
    "string = 'string'\n",
    "\n",
    "print(\"Grab first char:\",string[0])\n",
    "print(\"Grab last char [reverse]:\",string[-1])\n",
    "print(\"Grab last char:\",string[5])\n",
    "\n",
    "print(\"Print reversed string: \",end='')\n",
    "string_lenght = len(string)\n",
    "for i in range(-5,1):\n",
    "    print(string[i],end='')"
   ]
  },
  {
   "cell_type": "markdown",
   "metadata": {},
   "source": [
    "### Escape characters\n",
    "Escape characters are used inside of strings in order to make python to interpret a it's specified value instead of a character.\n",
    "\n",
    "Escape characters are specified being attached to (`\\`)\n",
    "> `Note: to cancel a escape character action use (\\\\)`"
   ]
  },
  {
   "cell_type": "code",
   "execution_count": 11,
   "metadata": {},
   "outputs": [
    {
     "name": "stdout",
     "output_type": "stream",
     "text": [
      "[\\t]:Tab\ttest\n",
      "[\\b]:Backspace \b test\n",
      "[\\n]:New line\n",
      "test\n"
     ]
    }
   ],
   "source": [
    "print('[\\\\t]:Tab\\ttest')\n",
    "print('[\\\\b]:Backspace \\b test')\n",
    "print('[\\\\n]:New line\\ntest')"
   ]
  },
  {
   "cell_type": "code",
   "execution_count": null,
   "metadata": {},
   "outputs": [],
   "source": []
  }
 ],
 "metadata": {
  "kernelspec": {
   "display_name": "Python 3",
   "language": "python",
   "name": "python3"
  },
  "language_info": {
   "codemirror_mode": {
    "name": "ipython",
    "version": 3
   },
   "file_extension": ".py",
   "mimetype": "text/x-python",
   "name": "python",
   "nbconvert_exporter": "python",
   "pygments_lexer": "ipython3",
   "version": "3.7.3"
  }
 },
 "nbformat": 4,
 "nbformat_minor": 2
}
