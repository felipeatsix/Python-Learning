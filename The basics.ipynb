{
 "cells": [
  {
   "cell_type": "markdown",
   "metadata": {},
   "source": [
    "# Rules for variable names\n",
    "* Names can not start with a number.\n",
    "* There can be no spaces in the name, use `_` instead.\n",
    "* Can't use any of these symbols:\n",
    "- :'\",<>/?|\\()!@#$%^&*~-+\n",
    "* It's considered best practice (PEP8) that names are lowercase.\n",
    "* Avoid using words that have special meaning in Pythin like `list` and `str`"
   ]
  },
  {
   "cell_type": "markdown",
   "metadata": {},
   "source": [
    "# Print to host"
   ]
  },
  {
   "cell_type": "code",
   "execution_count": 1,
   "metadata": {},
   "outputs": [
    {
     "name": "stdout",
     "output_type": "stream",
     "text": [
      "Hello Python!\n"
     ]
    }
   ],
   "source": [
    "print('Hello Python!')"
   ]
  },
  {
   "cell_type": "markdown",
   "metadata": {},
   "source": [
    "# Variables are case sensitive"
   ]
  },
  {
   "cell_type": "code",
   "execution_count": 2,
   "metadata": {},
   "outputs": [
    {
     "name": "stdout",
     "output_type": "stream",
     "text": [
      "Felipe Santos\n",
      "Santos\n"
     ]
    }
   ],
   "source": [
    "var = 'Felipe Santos'\n",
    "Var = 'Santos'\n",
    "\n",
    "print(var)\n",
    "print (Var)"
   ]
  },
  {
   "cell_type": "markdown",
   "metadata": {},
   "source": [
    "# This is an if statement"
   ]
  },
  {
   "cell_type": "code",
   "execution_count": 3,
   "metadata": {
    "scrolled": true
   },
   "outputs": [
    {
     "name": "stdout",
     "output_type": "stream",
     "text": [
      "Santos\n"
     ]
    }
   ],
   "source": [
    "if var == 'Santos':\n",
    "    print('Hello', var)\n",
    "\n",
    "elif Var == 'Santos':\n",
    "    print(Var)\n",
    "\n",
    "else:\n",
    "    print('done.')"
   ]
  },
  {
   "cell_type": "markdown",
   "metadata": {},
   "source": [
    "# This is a For loop statement"
   ]
  },
  {
   "cell_type": "code",
   "execution_count": 4,
   "metadata": {},
   "outputs": [
    {
     "name": "stdout",
     "output_type": "stream",
     "text": [
      "0\n",
      "1\n",
      "2\n",
      "3\n",
      "4\n",
      "5\n",
      "6\n",
      "7\n",
      "8\n",
      "9\n"
     ]
    }
   ],
   "source": [
    "for item in range(0,10):\n",
    "    print(item)\n"
   ]
  },
  {
   "cell_type": "markdown",
   "metadata": {},
   "source": [
    "### Use `end=''` to print on the same line"
   ]
  },
  {
   "cell_type": "code",
   "execution_count": 5,
   "metadata": {},
   "outputs": [
    {
     "name": "stdout",
     "output_type": "stream",
     "text": [
      "0123456789"
     ]
    }
   ],
   "source": [
    "for item in range(0,10):\n",
    "    print(item,end='')"
   ]
  },
  {
   "cell_type": "markdown",
   "metadata": {},
   "source": [
    "# Split and assign"
   ]
  },
  {
   "cell_type": "code",
   "execution_count": 6,
   "metadata": {
    "scrolled": true
   },
   "outputs": [
    {
     "name": "stdout",
     "output_type": "stream",
     "text": [
      "Felipe\n",
      "Santos\n"
     ]
    }
   ],
   "source": [
    "var = 'Felipe Santos'\n",
    "FirstName, LastName = var.split(' ')\n",
    "\n",
    "print(FirstName)\n",
    "print(LastName)"
   ]
  },
  {
   "cell_type": "markdown",
   "metadata": {
    "scrolled": true
   },
   "source": [
    "# Data types are dynamic in Python"
   ]
  },
  {
   "cell_type": "code",
   "execution_count": 7,
   "metadata": {},
   "outputs": [
    {
     "data": {
      "text/plain": [
       "int"
      ]
     },
     "execution_count": 7,
     "metadata": {},
     "output_type": "execute_result"
    }
   ],
   "source": [
    "a = 10\n",
    "type(a)"
   ]
  },
  {
   "cell_type": "code",
   "execution_count": 8,
   "metadata": {},
   "outputs": [
    {
     "data": {
      "text/plain": [
       "float"
      ]
     },
     "execution_count": 8,
     "metadata": {},
     "output_type": "execute_result"
    }
   ],
   "source": [
    "a = 10.50\n",
    "type(a)"
   ]
  },
  {
   "cell_type": "code",
   "execution_count": 9,
   "metadata": {},
   "outputs": [
    {
     "data": {
      "text/plain": [
       "str"
      ]
     },
     "execution_count": 9,
     "metadata": {},
     "output_type": "execute_result"
    }
   ],
   "source": [
    "a = 'Felipe'\n",
    "type (a)"
   ]
  },
  {
   "cell_type": "markdown",
   "metadata": {},
   "source": [
    "# Strings"
   ]
  },
  {
   "cell_type": "code",
   "execution_count": 10,
   "metadata": {},
   "outputs": [
    {
     "data": {
      "text/plain": [
       "'I will be printed to the console'"
      ]
     },
     "execution_count": 10,
     "metadata": {},
     "output_type": "execute_result"
    }
   ],
   "source": [
    "\"I won't be printed to the console\"\n",
    "\"I will be printed to the console\""
   ]
  },
  {
   "cell_type": "code",
   "execution_count": 11,
   "metadata": {},
   "outputs": [
    {
     "name": "stdout",
     "output_type": "stream",
     "text": [
      "I will be printed to the console\n",
      "I will also be printed to the console\n"
     ]
    }
   ],
   "source": [
    "print(\"I will be printed to the console\")\n",
    "print(\"I will also be printed to the console\")"
   ]
  },
  {
   "cell_type": "markdown",
   "metadata": {},
   "source": [
    "### String indexing\n",
    "A string is an array of characters, arrays are a sequence of elements put together, in the case of string the elements are text characters.\n",
    "\n",
    "Every element is given an index which identifies it's position in the array, both forward (positive index) and reverse (negative index).\n",
    "\n",
    "> `Note: -1 will always be the last character in the reverse index.`\n",
    "\n",
    "<table>\n",
    "    <tr><th>String</th><th>s</th><th>t</th><th>r</th><th>i</th><th>n</th><th>g</th></tr>\n",
    "    <tr><td><b>Array Index</b></td><td>0</td><td>1</td><td>2</td><td>3</td><td>4</td><td>5</td></tr>\n",
    "    <tr><td><b>Reverse Array Index</b></td><td>0</td><td>-5</td><td>-4</td><td>-3</td><td>-2</td><td>-1</td></tr>\n",
    "</table>\n",
    "    "
   ]
  },
  {
   "cell_type": "code",
   "execution_count": 12,
   "metadata": {},
   "outputs": [
    {
     "name": "stdout",
     "output_type": "stream",
     "text": [
      "s\n",
      "g\n",
      "g\n"
     ]
    }
   ],
   "source": [
    "string = 'string'\n",
    "print(string[0])\n",
    "print(string[5])\n",
    "\n",
    "# Always get the last char by getting the first reverse index\n",
    "print(string[-1])"
   ]
  },
  {
   "cell_type": "markdown",
   "metadata": {},
   "source": [
    "### String Slicing\n",
    "Slice is a python technique for getting a sub section of a string.\n",
    "> **Syntax:** `array[start index position:count]`  \n",
    ">> **Note:** `blank means array lenght.`\n",
    "\n",
    "<table>\n",
    "    <tr><th>String</th><th>a</th><th>b</th><th>c</th><th>d</th><th>f</th><th>g</th></tr>\n",
    "    <tr><td><b>Array<b></td><td>0</td><td>1</td><td>2</td><td>3</td><td>4</td><td>5</td></tr>\n",
    "    <tr><td><b>Count<b></td><td>1</td><td>2</td><td>3</td><td>4</td><td>5</td><td>6</td></tr>\n",
    "</table"
   ]
  },
  {
   "cell_type": "code",
   "execution_count": 13,
   "metadata": {},
   "outputs": [
    {
     "name": "stdout",
     "output_type": "stream",
     "text": [
      "bcdfg\n",
      "abc\n",
      "df\n"
     ]
    }
   ],
   "source": [
    "subsection = 'abcdfg'\n",
    "print(subsection[1:])\n",
    "print(subsection[0:3])\n",
    "print(subsection[3:5])"
   ]
  },
  {
   "cell_type": "markdown",
   "metadata": {},
   "source": [
    "### String Slicing: Step size\n",
    "Step size is a **third** parameter for the array indexing syntax.  \n",
    "The step size make jumps in the array to return each jump index.  \n",
    "\n",
    "> `Note: There's a Python trick where you can stepsize backwards by -1 in order to reverse a string.`\n",
    "\n",
    "<table>\n",
    "    <tr><th>String</th><th>s</th><th>t</th><th>e</th><th>p</th><th>s</th><th>i</th><th>z<th>e</th></tr>\n",
    "    <tr><td><b>Step by 2</b><td>^</td><td>1</td><td>^</td><td>1</td><td>^</td><td>1</td><td>^</td><td>1</td></tr>\n",
    "    <tr><td><b>Step by 3</b><td>^</td><td>1</td><td>2</td><td>^</td><td>1</td><td>2</td><td>^</td><td>1</td></tr> \n",
    "</table>"
   ]
  },
  {
   "cell_type": "code",
   "execution_count": 14,
   "metadata": {},
   "outputs": [
    {
     "name": "stdout",
     "output_type": "stream",
     "text": [
      "sesz\n",
      "spz\n",
      "esz\n",
      "ezispets\n"
     ]
    }
   ],
   "source": [
    "stepsize = \"stepsize\"\n",
    "print(stepsize[::2])\n",
    "print(stepsize[::3])\n",
    "print(stepsize[2::2])\n",
    "\n",
    "# Trick to reverse a string\n",
    "print(stepsize[::-1])"
   ]
  },
  {
   "cell_type": "markdown",
   "metadata": {},
   "source": [
    "### Escape characters\n",
    "Escape characters are used inside of strings in order to make python to interpret a it's specified value instead of a character.\n",
    "\n",
    "Escape characters are specified being attached to (`\\`)\n",
    "> **Note**: to cancel a escape character action use (\\\\)"
   ]
  },
  {
   "cell_type": "code",
   "execution_count": 15,
   "metadata": {},
   "outputs": [
    {
     "name": "stdout",
     "output_type": "stream",
     "text": [
      "Tab\ttest\n",
      "Backspace \b test\n",
      "New line\n",
      "test\n",
      "cancel escape character action: \\b\n"
     ]
    }
   ],
   "source": [
    "print('Tab\\ttest')\n",
    "print('Backspace \\b test')\n",
    "print('New line\\ntest')\n",
    "print('cancel escape character action: \\\\b')"
   ]
  },
  {
   "cell_type": "markdown",
   "metadata": {},
   "source": [
    "### Print formatting\n",
    "\n",
    "Print formatting consists on making use of place holders '{}' in a string to assign values to their indexes.  \n",
    "\n",
    "In Python, there are several ways to print formatting, we're going to cover some of the methods below:\n",
    "\n",
    "* Format method\n",
    "* F string method"
   ]
  },
  {
   "cell_type": "code",
   "execution_count": 9,
   "metadata": {},
   "outputs": [
    {
     "name": "stdout",
     "output_type": "stream",
     "text": [
      "This is how python does print formatting\n",
      "This is how python does print formatting\n",
      "This is how python does print formatting\n"
     ]
    }
   ],
   "source": [
    "# Format method using index position\n",
    "print(\"This {} how {} does {} formatting\".format('is','python','print'))\n",
    "\n",
    "# Format method using keywords \n",
    "print(\"This {i} how {py} does {pr} formatting\".format(i='is',py='python',pr='print'))\n",
    "\n",
    "# Format method using F string (Python 3.6 and above)\n",
    "i='is'\n",
    "py='python'\n",
    "pr='print'\n",
    "print(f'This {i} how {py} does {pr} formatting')"
   ]
  },
  {
   "cell_type": "markdown",
   "metadata": {},
   "source": [
    "###  Float formatting (Bonus lesson)\n",
    "I know this section is about **strings**, but it is convenient to accomplish the **'Print formatting'** section with the Float formatting, once it consists on the same method but for formatting float data type.\n",
    "\n",
    "The float formatting syntax is `\"{value:width.precision f}\"`\n",
    "> **Note**: *width* means blank space to be added, this sometimes can be necessary depending on the size of the number you're about to formatt and how you want it to fit in the string, but generally this value is commonly set to 1."
   ]
  },
  {
   "cell_type": "code",
   "execution_count": 14,
   "metadata": {},
   "outputs": [
    {
     "name": "stdout",
     "output_type": "stream",
     "text": [
      "The number is equal to 10.12\n",
      "The number is equal to 10.12\n"
     ]
    }
   ],
   "source": [
    "number = 10.12345\n",
    "\n",
    "# Float formatting method using index position\n",
    "print(\"The number is equal to {0:1.2f}\".format(number))\n",
    "\n",
    "# Float formatting method using keyword\n",
    "print(\"The number is equal to {n:1.2f}\".format(n=number))"
   ]
  },
  {
   "cell_type": "markdown",
   "metadata": {},
   "source": [
    "# Properties and methods\n",
    "Every type of object contains it's own properties and methods.  \n",
    "You can call them with the syntax `variable.property/method`"
   ]
  },
  {
   "cell_type": "code",
   "execution_count": 1,
   "metadata": {},
   "outputs": [
    {
     "name": "stdout",
     "output_type": "stream",
     "text": [
      "zelipe\n",
      "ZELIPE\n",
      "felipe \n",
      "\n",
      "['Python', 'is', 'awesome']\n",
      "Python\n",
      "is\n",
      "awesome\n"
     ]
    }
   ],
   "source": [
    "x = \"felipe\"\n",
    "\n",
    "# Replace a characater: replace\n",
    "replace = x.replace('f','z')\n",
    "print(replace)\n",
    "\n",
    "# Change all chars to capital: upper\n",
    "upper = replace.upper()\n",
    "print(upper)\n",
    "\n",
    "# Note that we have manipulated the data in x but we haven't changed variable x\n",
    "print(x,\"\\n\")\n",
    "\n",
    "xy = 'Python is awesome'\n",
    "# Let's split the above string by the space char between the two words in it.\n",
    "splitvar = xy.split(' ')\n",
    "\n",
    "# Observe we have created a list by splitting it, every split turns into a new python list item.\n",
    "print(splitvar)\n",
    "print(splitvar[0])\n",
    "print(splitvar[1])\n",
    "print(splitvar[2])"
   ]
  },
  {
   "cell_type": "code",
   "execution_count": null,
   "metadata": {},
   "outputs": [],
   "source": []
  }
 ],
 "metadata": {
  "kernelspec": {
   "display_name": "Python 3",
   "language": "python",
   "name": "python3"
  },
  "language_info": {
   "codemirror_mode": {
    "name": "ipython",
    "version": 3
   },
   "file_extension": ".py",
   "mimetype": "text/x-python",
   "name": "python",
   "nbconvert_exporter": "python",
   "pygments_lexer": "ipython3",
   "version": "3.6.5"
  }
 },
 "nbformat": 4,
 "nbformat_minor": 2
}
