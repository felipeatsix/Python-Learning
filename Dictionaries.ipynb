{
 "cells": [
  {
   "cell_type": "markdown",
   "metadata": {},
   "source": [
    "## Dictionaries\n",
    "* Dictionaries are unordered mappings for storing objects.\n",
    "* Dictionaries uses a key-value pairing.\n",
    "\n",
    "> **Syntax** \n",
    "* var = {'key':'value'}"
   ]
  },
  {
   "cell_type": "markdown",
   "metadata": {},
   "source": [
    "### Get a value by calling it's key"
   ]
  },
  {
   "cell_type": "code",
   "execution_count": 1,
   "metadata": {},
   "outputs": [
    {
     "data": {
      "text/plain": [
       "1.8"
      ]
     },
     "execution_count": 1,
     "metadata": {},
     "output_type": "execute_result"
    }
   ],
   "source": [
    "prices = {'apple':2.99,'oranges':1.99,'milk':1.80}\n",
    "prices['milk']"
   ]
  },
  {
   "cell_type": "markdown",
   "metadata": {},
   "source": [
    "### Passing a new value to a key"
   ]
  },
  {
   "cell_type": "code",
   "execution_count": 2,
   "metadata": {},
   "outputs": [
    {
     "name": "stdout",
     "output_type": "stream",
     "text": [
      "apple $2.99\n",
      "apple $1.00\n"
     ]
    }
   ],
   "source": [
    "# Note: See the file \"Print formatting\" if you didn't understand what's inside the print command in this cell.\n",
    "print('apple','$',end='')\n",
    "print(\"{n:1.2f}\".format(n=prices['apple']))\n",
    "\n",
    "# Assign a new value for 'apple'\n",
    "prices['apple'] = 1.00\n",
    "\n",
    "print('apple','$',end='')\n",
    "print(\"{n:1.2f}\".format(n=prices['apple']))"
   ]
  },
  {
   "cell_type": "markdown",
   "metadata": {},
   "source": [
    "### Dictionary keys supports nested lists or even other dictionaries"
   ]
  },
  {
   "cell_type": "code",
   "execution_count": 3,
   "metadata": {},
   "outputs": [
    {
     "name": "stdout",
     "output_type": "stream",
     "text": [
      "[0, 1, 2]\n",
      "{'inside_number': 100, 'inside_string': 'felipe'}\n",
      "FELIPE\n",
      "110\n"
     ]
    }
   ],
   "source": [
    "nested_dict = {'k1':[0,1,2],'k2':{'inside_number':100,'inside_string':'felipe'}}\n",
    "print(nested_dict['k1'])\n",
    "print(nested_dict['k2'])\n",
    "\n",
    "# We can make stacked calls to operate even with nested key values!\n",
    "print(nested_dict['k2']['inside_string'].upper())\n",
    "print(nested_dict['k2']['inside_number'] + 10)"
   ]
  },
  {
   "cell_type": "markdown",
   "metadata": {},
   "source": [
    "### Call key names, values or key/value pair (items)"
   ]
  },
  {
   "cell_type": "code",
   "execution_count": 4,
   "metadata": {},
   "outputs": [
    {
     "name": "stdout",
     "output_type": "stream",
     "text": [
      "dict_keys(['k1', 'k2']) \n",
      "\n",
      "dict_values([[0, 1, 2], {'inside_number': 100, 'inside_string': 'felipe'}]) \n",
      "\n",
      "dict_items([('k1', [0, 1, 2]), ('k2', {'inside_number': 100, 'inside_string': 'felipe'})]) \n",
      "\n"
     ]
    }
   ],
   "source": [
    "print(nested_dict.keys(),'\\n')\n",
    "\n",
    "print(nested_dict.values(),'\\n')\n",
    "\n",
    "print(nested_dict.items(),'\\n')"
   ]
  },
  {
   "cell_type": "code",
   "execution_count": null,
   "metadata": {},
   "outputs": [],
   "source": []
  }
 ],
 "metadata": {
  "kernelspec": {
   "display_name": "Python 3",
   "language": "python",
   "name": "python3"
  },
  "language_info": {
   "codemirror_mode": {
    "name": "ipython",
    "version": 3
   },
   "file_extension": ".py",
   "mimetype": "text/x-python",
   "name": "python",
   "nbconvert_exporter": "python",
   "pygments_lexer": "ipython3",
   "version": "3.7.3"
  }
 },
 "nbformat": 4,
 "nbformat_minor": 2
}
